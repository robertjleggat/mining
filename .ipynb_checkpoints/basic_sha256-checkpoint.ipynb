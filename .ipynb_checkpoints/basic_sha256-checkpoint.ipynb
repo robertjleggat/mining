{
 "cells": [
  {
   "cell_type": "markdown",
   "id": "5b5e939b",
   "metadata": {},
   "source": [
    "SHA 256 algorithm\n",
    "\n",
    "\n",
    "https://qvault.io/cryptography/how-sha-2-works-step-by-step-sha-256/\n",
    "\n",
    "https://www.researchgate.net/publication/259508311_A_compact_FPGA-based_processor_for_the_Secure_Hash_Algorithm_SHA-256 Outdated\n",
    "\n",
    "https://github.com/xmrig/xmrig-proxy/wiki/API Seems like we are only able to use XMRig API to GET statistics about mining performance\n",
    "\n",
    "As a result, may have to look elsewhere to implement custom algorithm.\n",
    "\n",
    "https://xmrig.com/docs/miner/config/api#api-id\n",
    "\n",
    "https://www.youtube.com/watch?v=ZhnJ1bkIWWk\n",
    "\n",
    "https://medium.com/hackergirl/how-to-calculate-the-hash-of-a-block-in-bitcoin-8f6aebb0dc6d\n",
    "\n",
    "https://analysis.null.place/how-do-the-bitcoin-mining-algorithms-work/#form4\n",
    "\n",
    "Presentation:\n",
    "\n",
    "https://analysis.null.place/how-do-the-bitcoin-mining-algorithms-work/#heading_block_hashing_in_detail\n",
    "\n",
    "https://www.blockchain.com/btc/block/0\n",
    "\n",
    "https://www.blockchain.com/explorer?view=btc\n",
    "\n",
    "https://coinguides.org/x16r-algorithm-coins/"
   ]
  },
  {
   "cell_type": "code",
   "execution_count": 15,
   "id": "d7feddf1",
   "metadata": {},
   "outputs": [
    {
     "name": "stdout",
     "output_type": "stream",
     "text": [
      "BTC Price USD: 38317.74\n",
      "BTC Price Yen: 4424549.44\n"
     ]
    }
   ],
   "source": [
    "current_btc = 38317.74\n",
    "JPYUSD = 115.47\n",
    "print('BTC Price USD:', current_btc)\n",
    "print('BTC Price Yen:', round(current_btc * JPYUSD, 2))"
   ]
  },
  {
   "cell_type": "markdown",
   "id": "f2173232",
   "metadata": {},
   "source": [
    "# Implementing SHA 256\n",
    "\n",
    "https://qvault.io/cryptography/how-sha-2-works-step-by-step-sha-256/"
   ]
  },
  {
   "cell_type": "code",
   "execution_count": 65,
   "id": "7b9498ed",
   "metadata": {},
   "outputs": [
    {
     "data": {
      "text/plain": [
       "'01101000 01100101 01101100 01101100 01101111 00100000 01110111 01101111 01110010 01101100 01100100'"
      ]
     },
     "execution_count": 65,
     "metadata": {},
     "output_type": "execute_result"
    }
   ],
   "source": [
    "# Step 0, convert string to binary\n",
    "def convert_to_binary(test_str):\n",
    "    return ' '.join(format(ord(i), '08b') for i in test_str)\n",
    "convert_to_binary('hello world')"
   ]
  },
  {
   "cell_type": "code",
   "execution_count": 66,
   "id": "120d3fd3",
   "metadata": {},
   "outputs": [
    {
     "data": {
      "text/plain": [
       "'00000000 00000000 00000000 00000000 00000000 00000000 00000000 01011000'"
      ]
     },
     "execution_count": 66,
     "metadata": {},
     "output_type": "execute_result"
    }
   ],
   "source": [
    "def int_to_64bit(num):\n",
    "    # big endian\n",
    "    # first separate into groups\n",
    "    num = '{:064b}'.format(num)\n",
    "    final_str = \"\"\n",
    "    j = 0\n",
    "    for i in range(71):\n",
    "        if i%9 == 8:\n",
    "            final_str += \" \"\n",
    "        else:\n",
    "            final_str += num[j]\n",
    "            j += 1\n",
    "    return final_str\n",
    "int_to_64bit(88)"
   ]
  },
  {
   "cell_type": "code",
   "execution_count": 67,
   "id": "8f672ac3",
   "metadata": {},
   "outputs": [
    {
     "data": {
      "text/plain": [
       "'01101000 01100101 01101100 01101100 01101111 00100000 01110111 01101111 01110010 01101100 01100100 10000000 00000000 00000000 00000000 00000000 00000000 00000000 00000000 00000000 00000000 00000000 00000000 00000000 00000000 00000000 00000000 00000000 00000000 00000000 00000000 00000000 00000000 00000000 00000000 00000000 00000000 00000000 00000000 00000000 00000000 00000000 00000000 00000000 00000000 00000000 00000000 00000000 00000000 00000000 00000000 00000000 00000000 00000000 00000000 00000000 00000000 00000000 00000000 00000000 00000000 00000000 00000000 01011000'"
      ]
     },
     "execution_count": 67,
     "metadata": {},
     "output_type": "execute_result"
    }
   ],
   "source": [
    "# Step 1, preprocessing\n",
    "def preprocessing(binary_str):\n",
    "    input_length = len(binary_str) - len(binary_str)//9\n",
    "    binary_str += \" 1\"\n",
    "    for i in range(len(binary_str), 503):\n",
    "        if i % 9 == 8:\n",
    "            binary_str += \" \"\n",
    "        else:\n",
    "            binary_str += '0'\n",
    "    return binary_str + \" \" + int_to_64bit(input_length)\n",
    "preprocessing(convert_to_binary('hello world'))"
   ]
  },
  {
   "cell_type": "code",
   "execution_count": 78,
   "id": "e7e4b4e5",
   "metadata": {},
   "outputs": [],
   "source": [
    "# step 2, initialize hash values\n",
    "h0 = \"0x6a09e667\"\n",
    "h1 = \"0xbb67ae85\"\n",
    "h2 = \"0x3c6ef372\"\n",
    "h3 = \"0xa54ff53a\"\n",
    "h4 = \"0x510e527f\"\n",
    "h5 = \"0x9b05688c\"\n",
    "h6 = \"0x1f83d9ab\"\n",
    "h7 = \"0x5be0cd19\""
   ]
  },
  {
   "cell_type": "code",
   "execution_count": 84,
   "id": "a976692f",
   "metadata": {},
   "outputs": [
    {
     "name": "stdout",
     "output_type": "stream",
     "text": [
      "0x428a2f98 0x71374491 0xb5c0fbcf 0xe9b5dba5 0x3956c25b 0x59f111f1 0x923f82a4 0xab1c5ed5 0xd807aa98 0x12835b01 0x243185be 0x550c7dc3 0x72be5d74 0x80deb1fe 0x9bdc06a7 0xc19bf174 0xe49b69c1 0xefbe4786 0x0fc19dc6 0x240ca1cc 0x2de92c6f 0x4a7484aa 0x5cb0a9dc 0x76f988da 0x983e5152 0xa831c66d 0xb00327c8 0xbf597fc7 0xc6e00bf3 0xd5a79147 0x06ca6351 0x14292967 0x27b70a85 0x2e1b2138 0x4d2c6dfc 0x53380d13 0x650a7354 0x766a0abb 0x81c2c92e 0x92722c85 0xa2bfe8a1 0xa81a664b 0xc24b8b70 0xc76c51a3 0xd192e819 0xd6990624 0xf40e3585 0x106aa070 0x19a4c116 0x1e376c08 0x2748774c 0x34b0bcb5 0x391c0cb3 0x4ed8aa4a 0x5b9cca4f 0x682e6ff3 0x748f82ee 0x78a5636f 0x84c87814 0x8cc70208 0x90befffa 0xa4506ceb 0xbef9a3f7 0xc67178f2\n"
     ]
    }
   ],
   "source": [
    "# step 3, initialize more constants\n",
    "constants = \"\"\"0x428a2f98 0x71374491 0xb5c0fbcf 0xe9b5dba5 0x3956c25b 0x59f111f1 0x923f82a4 0xab1c5ed5\n",
    "0xd807aa98 0x12835b01 0x243185be 0x550c7dc3 0x72be5d74 0x80deb1fe 0x9bdc06a7 0xc19bf174\n",
    "0xe49b69c1 0xefbe4786 0x0fc19dc6 0x240ca1cc 0x2de92c6f 0x4a7484aa 0x5cb0a9dc 0x76f988da\n",
    "0x983e5152 0xa831c66d 0xb00327c8 0xbf597fc7 0xc6e00bf3 0xd5a79147 0x06ca6351 0x14292967\n",
    "0x27b70a85 0x2e1b2138 0x4d2c6dfc 0x53380d13 0x650a7354 0x766a0abb 0x81c2c92e 0x92722c85\n",
    "0xa2bfe8a1 0xa81a664b 0xc24b8b70 0xc76c51a3 0xd192e819 0xd6990624 0xf40e3585 0x106aa070\n",
    "0x19a4c116 0x1e376c08 0x2748774c 0x34b0bcb5 0x391c0cb3 0x4ed8aa4a 0x5b9cca4f 0x682e6ff3\n",
    "0x748f82ee 0x78a5636f 0x84c87814 0x8cc70208 0x90befffa 0xa4506ceb 0xbef9a3f7 0xc67178f2\"\"\"\n",
    "constants = constants.replace(\"\\n\", \" \")\n",
    "print(constants)"
   ]
  },
  {
   "cell_type": "markdown",
   "id": "dc586c4b",
   "metadata": {},
   "source": [
    "# Using the algorithm for mining"
   ]
  },
  {
   "cell_type": "code",
   "execution_count": 17,
   "id": "50916a9d",
   "metadata": {},
   "outputs": [
    {
     "name": "stdout",
     "output_type": "stream",
     "text": [
      "Original String: hello world\n",
      "Hash of string: b94d27b9934d3e08a52e52d7da7dabfac484efe37a5380ee9088f7ace2efcde9\n",
      "Decimal value of hash: 83814198383102558219731078260892729932246618004265700685467928187377105751529\n"
     ]
    }
   ],
   "source": [
    "# Sample SHA 256 encoding\n",
    "import hashlib\n",
    "a_string = 'hello world'\n",
    "hashed_string = hashlib.sha256(a_string.encode('utf-8')).hexdigest()\n",
    "print('Original String:', a_string)\n",
    "print('Hash of string:', hashed_string)\n",
    "print('Decimal value of hash:', int(hashed_string, 16))"
   ]
  },
  {
   "cell_type": "code",
   "execution_count": 18,
   "id": "821d44fc",
   "metadata": {},
   "outputs": [],
   "source": [
    "# Converts hex val to little endian\n",
    "def to_little(val):\n",
    "    if val[:2] == '0x': # handles formatting of hex()\n",
    "        val = val[2:]\n",
    "    little_hex = bytearray.fromhex(val)\n",
    "    little_hex.reverse()\n",
    "\n",
    "    str_little = ''.join(format(x, '02x') for x in little_hex)\n",
    "\n",
    "    return str_little"
   ]
  },
  {
   "cell_type": "code",
   "execution_count": 19,
   "id": "b8d57faf",
   "metadata": {},
   "outputs": [
    {
     "name": "stdout",
     "output_type": "stream",
     "text": [
      "01000000\n"
     ]
    }
   ],
   "source": [
    "# Converts and int to a little endian 4 byte hex value\n",
    "# Used for version and nonce\n",
    "def int_to_hex(num):\n",
    "    num = '{:08x}'.format(num)\n",
    "    return to_little(num)\n",
    "print(int_to_hex(1))"
   ]
  },
  {
   "cell_type": "code",
   "execution_count": 20,
   "id": "8eec20d1",
   "metadata": {},
   "outputs": [],
   "source": [
    "# Generates the previous hash portion of the block header\n",
    "def generate_prev_hash(test=True):\n",
    "    if test:\n",
    "        return '0000000000000000000000000000000000000000000000000000000000000000' # value for 1st bitcoin mined"
   ]
  },
  {
   "cell_type": "code",
   "execution_count": 21,
   "id": "73b53122",
   "metadata": {},
   "outputs": [],
   "source": [
    "#Generates the merkle root portion of the block header\n",
    "def generate_merkle_root(test=True):\n",
    "    if test:\n",
    "        return to_little('4a5e1e4baab89f3a32518a88c31bc87f618f76673e2cc77ab2127b7afdeda33b') # value for 1st bitcoin mined"
   ]
  },
  {
   "cell_type": "code",
   "execution_count": 22,
   "id": "b9177c1f",
   "metadata": {},
   "outputs": [],
   "source": [
    "# Generates the timestamp portion of block header\n",
    "def generate_timestamp(test=True):\n",
    "    if test:\n",
    "        return to_little('495fab29') # hexadecimal timestamp of 1st bitcoin mined"
   ]
  },
  {
   "cell_type": "code",
   "execution_count": 23,
   "id": "a843f4dc",
   "metadata": {},
   "outputs": [],
   "source": [
    "# Generates the bits portion of the block header\n",
    "def generate_bits(test=True):\n",
    "    if test:\n",
    "        return to_little('1d00ffff')"
   ]
  },
  {
   "cell_type": "code",
   "execution_count": 24,
   "id": "b3fe7446",
   "metadata": {},
   "outputs": [
    {
     "data": {
      "text/plain": [
       "'0100000000000000000000000000000000000000000000000000000000000000000000003ba3edfd7a7b12b27ac72c3e67768f617fc81bc3888a51323a9fb8aa4b1e5e4a29ab5f49ffff001d'"
      ]
     },
     "execution_count": 24,
     "metadata": {},
     "output_type": "execute_result"
    }
   ],
   "source": [
    "# Combines functions to create a the block header excluding the nonce\n",
    "def generate_prefix():\n",
    "    return int_to_hex(1) + generate_prev_hash() + generate_merkle_root() + generate_timestamp() + generate_bits()\n",
    "generate_prefix()"
   ]
  },
  {
   "cell_type": "code",
   "execution_count": 25,
   "id": "c29890f9",
   "metadata": {},
   "outputs": [],
   "source": [
    "def sha256(string):\n",
    "    return hashlib.sha256(bytes.fromhex(string)).hexdigest()"
   ]
  },
  {
   "cell_type": "code",
   "execution_count": 26,
   "id": "157b4cd7",
   "metadata": {},
   "outputs": [
    {
     "data": {
      "text/plain": [
       "True"
      ]
     },
     "execution_count": 26,
     "metadata": {},
     "output_type": "execute_result"
    }
   ],
   "source": [
    "# Test to make sure header is constructed correctly\n",
    "string = generate_prefix() + int_to_hex(2083236893)\n",
    "string == '0100000000000000000000000000000000000000000000000000000000000000000000003ba3edfd7a7b12b27ac72c3e67768f617fc81bc3888a51323a9fb8aa4b1e5e4a29ab5f49ffff001d1dac2b7c'"
   ]
  },
  {
   "cell_type": "code",
   "execution_count": 27,
   "id": "c412222a",
   "metadata": {},
   "outputs": [],
   "source": [
    "def test_header(header):\n",
    "    return to_little(sha256(sha256(header)))"
   ]
  },
  {
   "cell_type": "code",
   "execution_count": 29,
   "id": "3b96958f",
   "metadata": {},
   "outputs": [
    {
     "name": "stdout",
     "output_type": "stream",
     "text": [
      "2080000000\n",
      "2081000000\n",
      "2082000000\n",
      "2083000000\n"
     ]
    },
    {
     "data": {
      "text/plain": [
       "('000000000019d6689c085ae165831e934ff763ae46a2a6c172b3f1b60a8ce26f',\n",
       " '0100000000000000000000000000000000000000000000000000000000000000000000003ba3edfd7a7b12b27ac72c3e67768f617fc81bc3888a51323a9fb8aa4b1e5e4a29ab5f49ffff001d1dac2b7c',\n",
       " 2083236893)"
      ]
     },
     "execution_count": 29,
     "metadata": {},
     "output_type": "execute_result"
    }
   ],
   "source": [
    "# Iterates through nonce values until one produces a hash that is lower than the target\n",
    "def find_nonce(prefix, target):\n",
    "    i = 2080000000 # starting with a nonce close to the actual value\n",
    "    header = \"\"\n",
    "    while True:\n",
    "        # status check\n",
    "        if i %1000000 == 0:\n",
    "            print(i)\n",
    "        \n",
    "        header = prefix + int_to_hex(i)\n",
    "        attempt = test_header(header)\n",
    "        if attempt < target:\n",
    "            return attempt, header, i\n",
    "        i += 1\n",
    "target = '00000000ffff0000000000000000000000000000000000000000000000000000'\n",
    "find_nonce(generate_prefix(), target)"
   ]
  },
  {
   "cell_type": "code",
   "execution_count": null,
   "id": "5b99a1f1",
   "metadata": {},
   "outputs": [],
   "source": []
  }
 ],
 "metadata": {
  "kernelspec": {
   "display_name": "Python 3 (ipykernel)",
   "language": "python",
   "name": "python3"
  },
  "language_info": {
   "codemirror_mode": {
    "name": "ipython",
    "version": 3
   },
   "file_extension": ".py",
   "mimetype": "text/x-python",
   "name": "python",
   "nbconvert_exporter": "python",
   "pygments_lexer": "ipython3",
   "version": "3.9.0"
  }
 },
 "nbformat": 4,
 "nbformat_minor": 5
}
