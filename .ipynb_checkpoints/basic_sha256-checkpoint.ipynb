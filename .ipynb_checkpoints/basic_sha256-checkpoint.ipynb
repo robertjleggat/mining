{
 "cells": [
  {
   "cell_type": "markdown",
   "id": "5b5e939b",
   "metadata": {},
   "source": [
    "SHA 256 algorithm\n",
    "\n",
    "\n",
    "https://qvault.io/cryptography/how-sha-2-works-step-by-step-sha-256/\n",
    "\n",
    "https://www.researchgate.net/publication/259508311_A_compact_FPGA-based_processor_for_the_Secure_Hash_Algorithm_SHA-256\n",
    "\n",
    "https://github.com/xmrig/xmrig-proxy/wiki/API Seems like we are only able to use XMRig API to GET statistics about mining performance\n",
    "\n",
    "As a result, may have to look elsewhere to implement custom algorithm.\n",
    "\n",
    "https://xmrig.com/docs/miner/config/api#api-id\n",
    "\n",
    "https://www.youtube.com/watch?v=ZhnJ1bkIWWk\n",
    "\n",
    "https://medium.com/hackergirl/how-to-calculate-the-hash-of-a-block-in-bitcoin-8f6aebb0dc6d\n",
    "\n",
    "https://analysis.null.place/how-do-the-bitcoin-mining-algorithms-work/#form4\n",
    "\n",
    "Presentation:\n",
    "\n",
    "https://analysis.null.place/how-do-the-bitcoin-mining-algorithms-work/#heading_block_hashing_in_detail\n",
    "\n",
    "https://www.blockchain.com/btc/block/0\n",
    "\n",
    "https://www.blockchain.com/explorer?view=btc\n",
    "\n",
    "https://coinguides.org/x16r-algorithm-coins/"
   ]
  },
  {
   "cell_type": "code",
   "execution_count": 1,
   "id": "d7feddf1",
   "metadata": {},
   "outputs": [
    {
     "name": "stdout",
     "output_type": "stream",
     "text": [
      "BTC Price USD: 38317.74\n",
      "BTC Price Yen: 4424549.44\n"
     ]
    }
   ],
   "source": [
    "current_btc = 38317.74\n",
    "JPYUSD = 115.47\n",
    "print('BTC Price USD:', current_btc)\n",
    "print('BTC Price Yen:', round(current_btc * JPYUSD, 2))"
   ]
  },
  {
   "cell_type": "code",
   "execution_count": 2,
   "id": "7b9498ed",
   "metadata": {},
   "outputs": [
    {
     "data": {
      "text/plain": [
       "'01101000 01100101 01101100 01101100 01101111 00100000 01110111 01101111 01110010 01101100 01100100'"
      ]
     },
     "execution_count": 2,
     "metadata": {},
     "output_type": "execute_result"
    }
   ],
   "source": [
    "# NOT USED: Converting string to binary\n",
    "test_str = 'hello world'\n",
    "\n",
    "binary_str = ' '.join(format(ord(i), '08b') for i in test_str)\n",
    "binary_str"
   ]
  },
  {
   "cell_type": "code",
   "execution_count": 3,
   "id": "50916a9d",
   "metadata": {},
   "outputs": [
    {
     "name": "stdout",
     "output_type": "stream",
     "text": [
      "Original String: hello world\n",
      "Hash of string: b94d27b9934d3e08a52e52d7da7dabfac484efe37a5380ee9088f7ace2efcde9\n",
      "Decimal value of hash: 83814198383102558219731078260892729932246618004265700685467928187377105751529\n"
     ]
    }
   ],
   "source": [
    "# Sample SHA 256 encoding\n",
    "import hashlib\n",
    "a_string = 'hello world'\n",
    "hashed_string = hashlib.sha256(a_string.encode('utf-8')).hexdigest()\n",
    "print('Original String:', a_string)\n",
    "print('Hash of string:', hashed_string)\n",
    "print('Decimal value of hash:', int(hashed_string, 16))"
   ]
  },
  {
   "cell_type": "code",
   "execution_count": 195,
   "id": "821d44fc",
   "metadata": {},
   "outputs": [],
   "source": [
    "# Converts hex val to little endian\n",
    "def to_little(val):\n",
    "    if val[:2] == '0x': # handles formatting of hex()\n",
    "        val = val[2:]\n",
    "    little_hex = bytearray.fromhex(val)\n",
    "    little_hex.reverse()\n",
    "\n",
    "    str_little = ''.join(format(x, '02x') for x in little_hex)\n",
    "\n",
    "    return str_little"
   ]
  },
  {
   "cell_type": "code",
   "execution_count": 167,
   "id": "b8d57faf",
   "metadata": {},
   "outputs": [
    {
     "name": "stdout",
     "output_type": "stream",
     "text": [
      "01000000\n"
     ]
    }
   ],
   "source": [
    "# Converts and int to a little endian 4 byte hex value\n",
    "# Used for version and nonce\n",
    "def int_to_hex(num):\n",
    "    num = '{:08x}'.format(num)\n",
    "    return to_little(num)\n",
    "print(int_to_hex(1))"
   ]
  },
  {
   "cell_type": "code",
   "execution_count": 194,
   "id": "8eec20d1",
   "metadata": {},
   "outputs": [],
   "source": [
    "# Generates the previous hash portion of the block header\n",
    "def generate_prev_hash(test=True):\n",
    "    if test:\n",
    "        return '0000000000000000000000000000000000000000000000000000000000000000' # value for 1st bitcoin mined"
   ]
  },
  {
   "cell_type": "code",
   "execution_count": 169,
   "id": "73b53122",
   "metadata": {},
   "outputs": [],
   "source": [
    "#Generates the merkle root portion of the block header\n",
    "def generate_merkle_root(test=True):\n",
    "    if test:\n",
    "        return to_little('4a5e1e4baab89f3a32518a88c31bc87f618f76673e2cc77ab2127b7afdeda33b') # value for 1st bitcoin mined"
   ]
  },
  {
   "cell_type": "code",
   "execution_count": 170,
   "id": "b9177c1f",
   "metadata": {},
   "outputs": [],
   "source": [
    "# Generates the timestamp portion of block header\n",
    "def generate_timestamp(test=True):\n",
    "    if test:\n",
    "        return to_little('495fab29') # hexadecimal timestamp of 1st bitcoin mined"
   ]
  },
  {
   "cell_type": "code",
   "execution_count": 171,
   "id": "a843f4dc",
   "metadata": {},
   "outputs": [],
   "source": [
    "# Generates the bits portion of the block header\n",
    "def generate_bits(test=True):\n",
    "    if test:\n",
    "        return to_little('1d00ffff')"
   ]
  },
  {
   "cell_type": "code",
   "execution_count": 172,
   "id": "b3fe7446",
   "metadata": {},
   "outputs": [
    {
     "data": {
      "text/plain": [
       "'0100000000000000000000000000000000000000000000000000000000000000000000003ba3edfd7a7b12b27ac72c3e67768f617fc81bc3888a51323a9fb8aa4b1e5e4a29ab5f49ffff001d'"
      ]
     },
     "execution_count": 172,
     "metadata": {},
     "output_type": "execute_result"
    }
   ],
   "source": [
    "# Combines functions to create a the block header excluding the nonce\n",
    "def generate_prefix():\n",
    "    return int_to_hex(1) + generate_prev_hash() + generate_merkle_root() + generate_timestamp() + generate_bits()\n",
    "generate_prefix()"
   ]
  },
  {
   "cell_type": "code",
   "execution_count": 181,
   "id": "c29890f9",
   "metadata": {},
   "outputs": [
    {
     "data": {
      "text/plain": [
       "'af42031e805ff493a07341e2f74ff58149d22ab9ba19f61343e2c86c71c5d66d'"
      ]
     },
     "execution_count": 181,
     "metadata": {},
     "output_type": "execute_result"
    }
   ],
   "source": [
    "def sha256(string):\n",
    "    return hashlib.sha256(bytes.fromhex(string)).hexdigest()\n",
    "sha256(header)"
   ]
  },
  {
   "cell_type": "code",
   "execution_count": 173,
   "id": "157b4cd7",
   "metadata": {},
   "outputs": [
    {
     "data": {
      "text/plain": [
       "True"
      ]
     },
     "execution_count": 173,
     "metadata": {},
     "output_type": "execute_result"
    }
   ],
   "source": [
    "# Test to make sure header is constructed correctly\n",
    "string = generate_prefix() + int_to_hex(2083236893)\n",
    "string == '0100000000000000000000000000000000000000000000000000000000000000000000003ba3edfd7a7b12b27ac72c3e67768f617fc81bc3888a51323a9fb8aa4b1e5e4a29ab5f49ffff001d1dac2b7c'"
   ]
  },
  {
   "cell_type": "code",
   "execution_count": 197,
   "id": "c412222a",
   "metadata": {},
   "outputs": [],
   "source": [
    "def test_header(header):\n",
    "    return to_little(sha256(sha256(header)))"
   ]
  },
  {
   "cell_type": "code",
   "execution_count": 206,
   "id": "3b96958f",
   "metadata": {},
   "outputs": [
    {
     "name": "stdout",
     "output_type": "stream",
     "text": [
      "0\n",
      "1000000\n",
      "2000000\n"
     ]
    },
    {
     "ename": "KeyboardInterrupt",
     "evalue": "",
     "output_type": "error",
     "traceback": [
      "\u001b[1;31m---------------------------------------------------------------------------\u001b[0m",
      "\u001b[1;31mKeyboardInterrupt\u001b[0m                         Traceback (most recent call last)",
      "\u001b[1;32m~\\AppData\\Local\\Temp/ipykernel_24036/1959517463.py\u001b[0m in \u001b[0;36m<module>\u001b[1;34m\u001b[0m\n\u001b[0;32m     14\u001b[0m         \u001b[0mi\u001b[0m \u001b[1;33m+=\u001b[0m \u001b[1;36m1\u001b[0m\u001b[1;33m\u001b[0m\u001b[1;33m\u001b[0m\u001b[0m\n\u001b[0;32m     15\u001b[0m \u001b[0mtarget\u001b[0m \u001b[1;33m=\u001b[0m \u001b[1;34m'00000000ffff0000000000000000000000000000000000000000000000000000'\u001b[0m\u001b[1;33m\u001b[0m\u001b[1;33m\u001b[0m\u001b[0m\n\u001b[1;32m---> 16\u001b[1;33m \u001b[0mfind_nonce\u001b[0m\u001b[1;33m(\u001b[0m\u001b[0mgenerate_prefix\u001b[0m\u001b[1;33m(\u001b[0m\u001b[1;33m)\u001b[0m\u001b[1;33m,\u001b[0m \u001b[0mtarget\u001b[0m\u001b[1;33m)\u001b[0m\u001b[1;33m\u001b[0m\u001b[1;33m\u001b[0m\u001b[0m\n\u001b[0m",
      "\u001b[1;32m~\\AppData\\Local\\Temp/ipykernel_24036/1959517463.py\u001b[0m in \u001b[0;36mfind_nonce\u001b[1;34m(prefix, target)\u001b[0m\n\u001b[0;32m      9\u001b[0m \u001b[1;33m\u001b[0m\u001b[0m\n\u001b[0;32m     10\u001b[0m         \u001b[0mheader\u001b[0m \u001b[1;33m=\u001b[0m \u001b[0mprefix\u001b[0m \u001b[1;33m+\u001b[0m \u001b[0mint_to_hex\u001b[0m\u001b[1;33m(\u001b[0m\u001b[0mi\u001b[0m\u001b[1;33m)\u001b[0m\u001b[1;33m\u001b[0m\u001b[1;33m\u001b[0m\u001b[0m\n\u001b[1;32m---> 11\u001b[1;33m         \u001b[0mattempt\u001b[0m \u001b[1;33m=\u001b[0m \u001b[0mtest_header\u001b[0m\u001b[1;33m(\u001b[0m\u001b[0mheader\u001b[0m\u001b[1;33m)\u001b[0m\u001b[1;33m\u001b[0m\u001b[1;33m\u001b[0m\u001b[0m\n\u001b[0m\u001b[0;32m     12\u001b[0m         \u001b[1;32mif\u001b[0m \u001b[0mattempt\u001b[0m \u001b[1;33m<\u001b[0m \u001b[0mtarget\u001b[0m\u001b[1;33m:\u001b[0m\u001b[1;33m\u001b[0m\u001b[1;33m\u001b[0m\u001b[0m\n\u001b[0;32m     13\u001b[0m             \u001b[1;32mreturn\u001b[0m \u001b[0mattempt\u001b[0m\u001b[1;33m,\u001b[0m \u001b[0mheader\u001b[0m\u001b[1;33m,\u001b[0m \u001b[0mi\u001b[0m\u001b[1;33m\u001b[0m\u001b[1;33m\u001b[0m\u001b[0m\n",
      "\u001b[1;32m~\\AppData\\Local\\Temp/ipykernel_24036/740124820.py\u001b[0m in \u001b[0;36mtest_header\u001b[1;34m(header)\u001b[0m\n\u001b[0;32m      1\u001b[0m \u001b[1;32mdef\u001b[0m \u001b[0mtest_header\u001b[0m\u001b[1;33m(\u001b[0m\u001b[0mheader\u001b[0m\u001b[1;33m)\u001b[0m\u001b[1;33m:\u001b[0m\u001b[1;33m\u001b[0m\u001b[1;33m\u001b[0m\u001b[0m\n\u001b[1;32m----> 2\u001b[1;33m     \u001b[1;32mreturn\u001b[0m \u001b[0mto_little\u001b[0m\u001b[1;33m(\u001b[0m\u001b[0msha256\u001b[0m\u001b[1;33m(\u001b[0m\u001b[0msha256\u001b[0m\u001b[1;33m(\u001b[0m\u001b[0mheader\u001b[0m\u001b[1;33m)\u001b[0m\u001b[1;33m)\u001b[0m\u001b[1;33m)\u001b[0m\u001b[1;33m\u001b[0m\u001b[1;33m\u001b[0m\u001b[0m\n\u001b[0m",
      "\u001b[1;32m~\\AppData\\Local\\Temp/ipykernel_24036/3361368967.py\u001b[0m in \u001b[0;36mto_little\u001b[1;34m(val)\u001b[0m\n\u001b[0;32m      6\u001b[0m     \u001b[0mlittle_hex\u001b[0m\u001b[1;33m.\u001b[0m\u001b[0mreverse\u001b[0m\u001b[1;33m(\u001b[0m\u001b[1;33m)\u001b[0m\u001b[1;33m\u001b[0m\u001b[1;33m\u001b[0m\u001b[0m\n\u001b[0;32m      7\u001b[0m \u001b[1;33m\u001b[0m\u001b[0m\n\u001b[1;32m----> 8\u001b[1;33m     \u001b[0mstr_little\u001b[0m \u001b[1;33m=\u001b[0m \u001b[1;34m''\u001b[0m\u001b[1;33m.\u001b[0m\u001b[0mjoin\u001b[0m\u001b[1;33m(\u001b[0m\u001b[0mformat\u001b[0m\u001b[1;33m(\u001b[0m\u001b[0mx\u001b[0m\u001b[1;33m,\u001b[0m \u001b[1;34m'02x'\u001b[0m\u001b[1;33m)\u001b[0m \u001b[1;32mfor\u001b[0m \u001b[0mx\u001b[0m \u001b[1;32min\u001b[0m \u001b[0mlittle_hex\u001b[0m\u001b[1;33m)\u001b[0m\u001b[1;33m\u001b[0m\u001b[1;33m\u001b[0m\u001b[0m\n\u001b[0m\u001b[0;32m      9\u001b[0m \u001b[1;33m\u001b[0m\u001b[0m\n\u001b[0;32m     10\u001b[0m     \u001b[1;32mreturn\u001b[0m \u001b[0mstr_little\u001b[0m\u001b[1;33m\u001b[0m\u001b[1;33m\u001b[0m\u001b[0m\n",
      "\u001b[1;32m~\\AppData\\Local\\Temp/ipykernel_24036/3361368967.py\u001b[0m in \u001b[0;36m<genexpr>\u001b[1;34m(.0)\u001b[0m\n\u001b[0;32m      6\u001b[0m     \u001b[0mlittle_hex\u001b[0m\u001b[1;33m.\u001b[0m\u001b[0mreverse\u001b[0m\u001b[1;33m(\u001b[0m\u001b[1;33m)\u001b[0m\u001b[1;33m\u001b[0m\u001b[1;33m\u001b[0m\u001b[0m\n\u001b[0;32m      7\u001b[0m \u001b[1;33m\u001b[0m\u001b[0m\n\u001b[1;32m----> 8\u001b[1;33m     \u001b[0mstr_little\u001b[0m \u001b[1;33m=\u001b[0m \u001b[1;34m''\u001b[0m\u001b[1;33m.\u001b[0m\u001b[0mjoin\u001b[0m\u001b[1;33m(\u001b[0m\u001b[0mformat\u001b[0m\u001b[1;33m(\u001b[0m\u001b[0mx\u001b[0m\u001b[1;33m,\u001b[0m \u001b[1;34m'02x'\u001b[0m\u001b[1;33m)\u001b[0m \u001b[1;32mfor\u001b[0m \u001b[0mx\u001b[0m \u001b[1;32min\u001b[0m \u001b[0mlittle_hex\u001b[0m\u001b[1;33m)\u001b[0m\u001b[1;33m\u001b[0m\u001b[1;33m\u001b[0m\u001b[0m\n\u001b[0m\u001b[0;32m      9\u001b[0m \u001b[1;33m\u001b[0m\u001b[0m\n\u001b[0;32m     10\u001b[0m     \u001b[1;32mreturn\u001b[0m \u001b[0mstr_little\u001b[0m\u001b[1;33m\u001b[0m\u001b[1;33m\u001b[0m\u001b[0m\n",
      "\u001b[1;31mKeyboardInterrupt\u001b[0m: "
     ]
    }
   ],
   "source": [
    "# Iterates through nonce values until one produces a hash that is lower than the target\n",
    "def find_nonce(prefix, target):\n",
    "    i = 0\n",
    "    header = \"\"\n",
    "    while True:\n",
    "        # status check\n",
    "        if i %1000000 == 0:\n",
    "            print(i)\n",
    "        \n",
    "        header = prefix + int_to_hex(i)\n",
    "        attempt = test_header(header)\n",
    "        if attempt < target:\n",
    "            return attempt, header, i\n",
    "        i += 1\n",
    "target = '00000000ffff0000000000000000000000000000000000000000000000000000'\n",
    "find_nonce(generate_prefix(), target)"
   ]
  },
  {
   "cell_type": "code",
   "execution_count": null,
   "id": "5b99a1f1",
   "metadata": {},
   "outputs": [],
   "source": []
  }
 ],
 "metadata": {
  "kernelspec": {
   "display_name": "Python 3 (ipykernel)",
   "language": "python",
   "name": "python3"
  },
  "language_info": {
   "codemirror_mode": {
    "name": "ipython",
    "version": 3
   },
   "file_extension": ".py",
   "mimetype": "text/x-python",
   "name": "python",
   "nbconvert_exporter": "python",
   "pygments_lexer": "ipython3",
   "version": "3.9.0"
  }
 },
 "nbformat": 4,
 "nbformat_minor": 5
}
