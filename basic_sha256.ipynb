{
 "cells": [
  {
   "cell_type": "markdown",
   "id": "5b5e939b",
   "metadata": {},
   "source": [
    "SHA 256 algorithm\n",
    "\n",
    "\n",
    "https://qvault.io/cryptography/how-sha-2-works-step-by-step-sha-256/\n",
    "\n",
    "https://www.researchgate.net/publication/259508311_A_compact_FPGA-based_processor_for_the_Secure_Hash_Algorithm_SHA-256 Outdated\n",
    "\n",
    "https://github.com/xmrig/xmrig-proxy/wiki/API Seems like we are only able to use XMRig API to GET statistics about mining performance\n",
    "\n",
    "As a result, may have to look elsewhere to implement custom algorithm.\n",
    "\n",
    "https://xmrig.com/docs/miner/config/api#api-id\n",
    "\n",
    "https://www.youtube.com/watch?v=ZhnJ1bkIWWk\n",
    "\n",
    "https://medium.com/hackergirl/how-to-calculate-the-hash-of-a-block-in-bitcoin-8f6aebb0dc6d\n",
    "\n",
    "https://analysis.null.place/how-do-the-bitcoin-mining-algorithms-work/#form4\n",
    "\n",
    "Presentation:\n",
    "\n",
    "https://analysis.null.place/how-do-the-bitcoin-mining-algorithms-work/#heading_block_hashing_in_detail\n",
    "\n",
    "https://www.blockchain.com/btc/block/0\n",
    "\n",
    "https://www.blockchain.com/explorer?view=btc\n",
    "\n",
    "https://coinguides.org/x16r-algorithm-coins/"
   ]
  },
  {
   "cell_type": "code",
   "execution_count": 1,
   "id": "d7feddf1",
   "metadata": {},
   "outputs": [
    {
     "name": "stdout",
     "output_type": "stream",
     "text": [
      "BTC Price USD: 38317.74\n",
      "BTC Price Yen: 4424549.44\n"
     ]
    }
   ],
   "source": [
    "current_btc = 38317.74\n",
    "JPYUSD = 115.47\n",
    "print('BTC Price USD:', current_btc)\n",
    "print('BTC Price Yen:', round(current_btc * JPYUSD, 2))"
   ]
  },
  {
   "cell_type": "markdown",
   "id": "f2173232",
   "metadata": {},
   "source": [
    "# Implementing SHA 256\n",
    "\n",
    "https://qvault.io/cryptography/how-sha-2-works-step-by-step-sha-256/"
   ]
  },
  {
   "cell_type": "code",
   "execution_count": 2,
   "id": "c87fa9be",
   "metadata": {},
   "outputs": [
    {
     "name": "stdout",
     "output_type": "stream",
     "text": [
      "00000000 00000000"
     ]
    }
   ],
   "source": [
    "# prints out binary input, working\n",
    "def printb(string):\n",
    "    for i in range(len(string)):\n",
    "        if i > 0:\n",
    "            if i%8 == 0:\n",
    "                print(\" \", end='')\n",
    "                if i%64 == 0:\n",
    "                    print(\"\\n\", end='')\n",
    "        print(string[i], end='')\n",
    "printb('0000000000000000')"
   ]
  },
  {
   "cell_type": "code",
   "execution_count": 3,
   "id": "7b9498ed",
   "metadata": {},
   "outputs": [
    {
     "data": {
      "text/plain": [
       "88"
      ]
     },
     "execution_count": 3,
     "metadata": {},
     "output_type": "execute_result"
    }
   ],
   "source": [
    "# Step 0, convert string to binary\n",
    "def convert_to_binary(test_str):\n",
    "    return ''.join(format(ord(i), '08b') for i in test_str)\n",
    "len(convert_to_binary('hello world'))"
   ]
  },
  {
   "cell_type": "code",
   "execution_count": 4,
   "id": "120d3fd3",
   "metadata": {},
   "outputs": [
    {
     "data": {
      "text/plain": [
       "'00000000000000000000000001011000'"
      ]
     },
     "execution_count": 4,
     "metadata": {},
     "output_type": "execute_result"
    }
   ],
   "source": [
    "def int_to_bin(num, bits=32):\n",
    "    # big endian\n",
    "    # first separate into groups\n",
    "    if bits == 64:\n",
    "        num = '{:064b}'.format(num)\n",
    "    elif bits == 32:\n",
    "        num = '{:032b}'.format(num)\n",
    "    return num\n",
    "int_to_bin(88)"
   ]
  },
  {
   "cell_type": "code",
   "execution_count": 5,
   "id": "8f672ac3",
   "metadata": {},
   "outputs": [
    {
     "name": "stdout",
     "output_type": "stream",
     "text": [
      "01101000 01100101 01101100 01101100 01101111 00100000 01110111 01101111 \n",
      "01110010 01101100 01100100 10000000 00000000 00000000 00000000 00000000 \n",
      "00000000 00000000 00000000 00000000 00000000 00000000 00000000 00000000 \n",
      "00000000 00000000 00000000 00000000 00000000 00000000 00000000 00000000 \n",
      "00000000 00000000 00000000 00000000 00000000 00000000 00000000 00000000 \n",
      "00000000 00000000 00000000 00000000 00000000 00000000 00000000 00000000 \n",
      "00000000 00000000 00000000 00000000 00000000 00000000 00000000 00000000 \n",
      "00000000 00000000 00000000 00000000 00000000 00000000 00000000 01011000"
     ]
    }
   ],
   "source": [
    "# Step 1, preprocessing\n",
    "def preprocessing(binary_str):\n",
    "    input_length = len(binary_str)\n",
    "    binary_str += \"1\"\n",
    "    for i in range(len(binary_str), 448):\n",
    "        binary_str += '0'\n",
    "    return binary_str + int_to_bin(input_length, bits=64)\n",
    "printb(preprocessing(convert_to_binary('hello world')))"
   ]
  },
  {
   "cell_type": "code",
   "execution_count": 6,
   "id": "d3f3a6dd",
   "metadata": {},
   "outputs": [],
   "source": [
    "# step 6 helper functions\n",
    "\n",
    "# done, tested\n",
    "def hex_to_bin(hex_val):\n",
    "    return int_to_bin(int(hex_val, 16))\n",
    "\n"
   ]
  },
  {
   "cell_type": "code",
   "execution_count": 7,
   "id": "e7e4b4e5",
   "metadata": {},
   "outputs": [],
   "source": [
    "# step 2, initialize hash values\n",
    "\n",
    "h0 = hex_to_bin(\"0x6a09e667\")\n",
    "h1 = hex_to_bin(\"0xbb67ae85\")\n",
    "h2 = hex_to_bin(\"0x3c6ef372\")\n",
    "h3 = hex_to_bin(\"0xa54ff53a\")\n",
    "h4 = hex_to_bin(\"0x510e527f\")\n",
    "h5 = hex_to_bin(\"0x9b05688c\")\n",
    "h6 = hex_to_bin(\"0x1f83d9ab\")\n",
    "h7 = hex_to_bin(\"0x5be0cd19\")\n",
    "\n",
    "h = [h0, h1, h2, h3, h4, h5, h6, h7]"
   ]
  },
  {
   "cell_type": "code",
   "execution_count": 8,
   "id": "a976692f",
   "metadata": {},
   "outputs": [
    {
     "name": "stdout",
     "output_type": "stream",
     "text": [
      "['01000010100010100010111110011000', '01110001001101110100010010010001', '10110101110000001111101111001111', '11101001101101011101101110100101', '00111001010101101100001001011011', '01011001111100010001000111110001', '10010010001111111000001010100100', '10101011000111000101111011010101', '11011000000001111010101010011000', '00010010100000110101101100000001', '00100100001100011000010110111110', '01010101000011000111110111000011', '01110010101111100101110101110100', '10000000110111101011000111111110', '10011011110111000000011010100111', '11000001100110111111000101110100', '11100100100110110110100111000001', '11101111101111100100011110000110', '00001111110000011001110111000110', '00100100000011001010000111001100', '00101101111010010010110001101111', '01001010011101001000010010101010', '01011100101100001010100111011100', '01110110111110011000100011011010', '10011000001111100101000101010010', '10101000001100011100011001101101', '10110000000000110010011111001000', '10111111010110010111111111000111', '11000110111000000000101111110011', '11010101101001111001000101000111', '00000110110010100110001101010001', '00010100001010010010100101100111', '00100111101101110000101010000101', '00101110000110110010000100111000', '01001101001011000110110111111100', '01010011001110000000110100010011', '01100101000010100111001101010100', '01110110011010100000101010111011', '10000001110000101100100100101110', '10010010011100100010110010000101', '10100010101111111110100010100001', '10101000000110100110011001001011', '11000010010010111000101101110000', '11000111011011000101000110100011', '11010001100100101110100000011001', '11010110100110010000011000100100', '11110100000011100011010110000101', '00010000011010101010000001110000', '00011001101001001100000100010110', '00011110001101110110110000001000', '00100111010010000111011101001100', '00110100101100001011110010110101', '00111001000111000000110010110011', '01001110110110001010101001001010', '01011011100111001100101001001111', '01101000001011100110111111110011', '01110100100011111000001011101110', '01111000101001010110001101101111', '10000100110010000111100000010100', '10001100110001110000001000001000', '10010000101111101111111111111010', '10100100010100000110110011101011', '10111110111110011010001111110111', '11000110011100010111100011110010']\n"
     ]
    }
   ],
   "source": [
    "# step 3, initialize more constants\n",
    "constants = \"\"\"0x428a2f98 0x71374491 0xb5c0fbcf 0xe9b5dba5 0x3956c25b 0x59f111f1 0x923f82a4 0xab1c5ed5\n",
    "0xd807aa98 0x12835b01 0x243185be 0x550c7dc3 0x72be5d74 0x80deb1fe 0x9bdc06a7 0xc19bf174\n",
    "0xe49b69c1 0xefbe4786 0x0fc19dc6 0x240ca1cc 0x2de92c6f 0x4a7484aa 0x5cb0a9dc 0x76f988da\n",
    "0x983e5152 0xa831c66d 0xb00327c8 0xbf597fc7 0xc6e00bf3 0xd5a79147 0x06ca6351 0x14292967\n",
    "0x27b70a85 0x2e1b2138 0x4d2c6dfc 0x53380d13 0x650a7354 0x766a0abb 0x81c2c92e 0x92722c85\n",
    "0xa2bfe8a1 0xa81a664b 0xc24b8b70 0xc76c51a3 0xd192e819 0xd6990624 0xf40e3585 0x106aa070\n",
    "0x19a4c116 0x1e376c08 0x2748774c 0x34b0bcb5 0x391c0cb3 0x4ed8aa4a 0x5b9cca4f 0x682e6ff3\n",
    "0x748f82ee 0x78a5636f 0x84c87814 0x8cc70208 0x90befffa 0xa4506ceb 0xbef9a3f7 0xc67178f2\"\"\"\n",
    "constants = constants.replace(\"\\n\", \" \")\n",
    "k = constants.split(' ')\n",
    "k = [hex_to_bin(i) for i in k]\n",
    "print(k)"
   ]
  },
  {
   "cell_type": "code",
   "execution_count": 9,
   "id": "a0ed7090",
   "metadata": {},
   "outputs": [],
   "source": [
    "# step 4, no work necessary until scaling"
   ]
  },
  {
   "cell_type": "code",
   "execution_count": 10,
   "id": "015d7f33",
   "metadata": {},
   "outputs": [],
   "source": [
    "# step 5 helper functions\n",
    "\n",
    "# done, tested\n",
    "def rightrotate(string, n):\n",
    "    old_front = string[:-n]\n",
    "    old_back = string[-n:]\n",
    "    return old_back + old_front\n",
    "\n",
    "def rightshift(string, n):\n",
    "    old_front = string[:-n]\n",
    "    old_back = '0' * n\n",
    "    return old_back + old_front\n",
    "\n",
    "def xor(string1, string2):\n",
    "    assert len(string1) == len(string2)\n",
    "    result = ''\n",
    "    for i in range(len(string1)):\n",
    "        if string1[i] == string2[i]:\n",
    "            result += '0'\n",
    "        else:\n",
    "            result += '1'\n",
    "    return result\n",
    "\n",
    "def bin_and(string1, string2):\n",
    "    assert len(string1) == len(string2)\n",
    "    result = ''\n",
    "    for i in range(len(string1)):\n",
    "        if string1[i] == '1' and string2[i] == '1':\n",
    "            result += '1'\n",
    "        else:\n",
    "            result += '0'\n",
    "    return result\n",
    "\n",
    "def bin_not(string):\n",
    "    result = ''\n",
    "    for i in range(len(string)):\n",
    "        if string[i] == \"1\":\n",
    "            result += '0'\n",
    "        else:\n",
    "            result += '1'\n",
    "    return result\n",
    "\n",
    "def bin_add(strings):\n",
    "    total = 0\n",
    "    for string in strings:\n",
    "        total += to_decimal(string)\n",
    "    return int_to_bin(total % (2**32))\n",
    "\n",
    "def add(strings):\n",
    "    return bin_add(strings)\n",
    "    \n",
    "\n",
    "def to_decimal(binary_str):\n",
    "    return int(binary_str, 2)"
   ]
  },
  {
   "cell_type": "code",
   "execution_count": 11,
   "id": "c59424bc",
   "metadata": {},
   "outputs": [],
   "source": [
    "# step 5, create message schedule (done, tested)\n",
    "def message_schedule(input_data):\n",
    "    w = []\n",
    "    for i in range(16):\n",
    "        start_index = 32 * i\n",
    "        end_index = 32 * (i + 1)\n",
    "        w.append(input_data[start_index:end_index])\n",
    "    for i in range(48):\n",
    "        w.append('00000000000000000000000000000000')\n",
    "        \n",
    "    for i in range(16, 64):\n",
    "        s0 = xor(xor(rightrotate(w[i-15], 7), rightrotate(w[i-15], 18)), rightshift(w[i-15], 3))\n",
    "        s1 = xor(xor(rightrotate(w[i-2], 17), rightrotate(w[i-2], 19)), rightshift(w[i-2], 10))\n",
    "        w[i] = bin_add([w[i-16], s0, w[i-7], s1])    \n",
    "        \n",
    "    return w"
   ]
  },
  {
   "cell_type": "code",
   "execution_count": 12,
   "id": "c64869f9",
   "metadata": {},
   "outputs": [],
   "source": [
    "# step 6, compression (done, tested)\n",
    "def compression(w):\n",
    "    a = h0\n",
    "    b = h1\n",
    "    c = h2\n",
    "    d = h3\n",
    "    e = h4\n",
    "    f = h5\n",
    "    g = h6\n",
    "    h = h7\n",
    "\n",
    "    for i in range(64):\n",
    "        s1 = xor(xor(rightrotate(e, 6), rightrotate(e, 11)), rightrotate(e, 25))\n",
    "        ch = xor(bin_and(e, f), bin_and(bin_not(e), g))\n",
    "        temp1 = bin_add([h, s1, ch, k[i], w[i]])\n",
    "        s0 = xor(xor(rightrotate(a, 2), rightrotate(a, 13)), rightrotate(a, 22))\n",
    "        maj = xor(xor(bin_and(a, b), bin_and(a, c)), bin_and(b, c))\n",
    "        temp2 = bin_add([s0, maj])\n",
    "        h = g\n",
    "        g = f\n",
    "        f = e\n",
    "        e = add([d, temp1])\n",
    "        d = c\n",
    "        c = b\n",
    "        b = a\n",
    "        a = add([temp1, temp2])\n",
    "    return [a, b, c, d, e, f, g, h]"
   ]
  },
  {
   "cell_type": "code",
   "execution_count": 13,
   "id": "0374c72e",
   "metadata": {},
   "outputs": [],
   "source": [
    "# step 7, modify final values\n",
    "\n",
    "def mod_final(h, letters):\n",
    "\n",
    "    return [add([h[i], letters[i]]) for i in range(8)]"
   ]
  },
  {
   "cell_type": "code",
   "execution_count": 14,
   "id": "f2dfeee9",
   "metadata": {},
   "outputs": [],
   "source": [
    "# step 8 helper functions\n",
    "def bin_to_hex(string):\n",
    "    without_leading_zeroes = hex(int(string, 2))[2:]\n",
    "    return ('0' * (8 - len(without_leading_zeroes))) + without_leading_zeroes"
   ]
  },
  {
   "cell_type": "code",
   "execution_count": 15,
   "id": "0f6c04b5",
   "metadata": {},
   "outputs": [],
   "source": [
    "# step 8, concatenate final hash\n",
    "def concat(h):\n",
    "    result = ''\n",
    "    for i in h:\n",
    "        result += bin_to_hex(i)\n",
    "    return result"
   ]
  },
  {
   "cell_type": "code",
   "execution_count": 16,
   "id": "6eb4243b",
   "metadata": {},
   "outputs": [
    {
     "data": {
      "text/plain": [
       "'3affd5adaccf2f74747d59e680808074ed3bd20daaf51cfd2a92609859456c8c'"
      ]
     },
     "execution_count": 16,
     "metadata": {},
     "output_type": "execute_result"
    }
   ],
   "source": [
    "def sha256(string):\n",
    "    \n",
    "    \n",
    "    h0 = hex_to_bin(\"0x6a09e667\")\n",
    "    h1 = hex_to_bin(\"0xbb67ae85\")\n",
    "    h2 = hex_to_bin(\"0x3c6ef372\")\n",
    "    h3 = hex_to_bin(\"0xa54ff53a\")\n",
    "    h4 = hex_to_bin(\"0x510e527f\")\n",
    "    h5 = hex_to_bin(\"0x9b05688c\")\n",
    "    h6 = hex_to_bin(\"0x1f83d9ab\")\n",
    "    h7 = hex_to_bin(\"0x5be0cd19\")\n",
    "    h = [h0, h1, h2, h3, h4, h5, h6, h7]\n",
    "    \n",
    "    constants = \"\"\"0x428a2f98 0x71374491 0xb5c0fbcf 0xe9b5dba5 0x3956c25b 0x59f111f1 0x923f82a4 0xab1c5ed5\n",
    "0xd807aa98 0x12835b01 0x243185be 0x550c7dc3 0x72be5d74 0x80deb1fe 0x9bdc06a7 0xc19bf174\n",
    "0xe49b69c1 0xefbe4786 0x0fc19dc6 0x240ca1cc 0x2de92c6f 0x4a7484aa 0x5cb0a9dc 0x76f988da\n",
    "0x983e5152 0xa831c66d 0xb00327c8 0xbf597fc7 0xc6e00bf3 0xd5a79147 0x06ca6351 0x14292967\n",
    "0x27b70a85 0x2e1b2138 0x4d2c6dfc 0x53380d13 0x650a7354 0x766a0abb 0x81c2c92e 0x92722c85\n",
    "0xa2bfe8a1 0xa81a664b 0xc24b8b70 0xc76c51a3 0xd192e819 0xd6990624 0xf40e3585 0x106aa070\n",
    "0x19a4c116 0x1e376c08 0x2748774c 0x34b0bcb5 0x391c0cb3 0x4ed8aa4a 0x5b9cca4f 0x682e6ff3\n",
    "0x748f82ee 0x78a5636f 0x84c87814 0x8cc70208 0x90befffa 0xa4506ceb 0xbef9a3f7 0xc67178f2\"\"\"\n",
    "    constants = constants.replace(\"\\n\", \" \")\n",
    "    constants = constants.replace(\"\\t\", \"\")\n",
    "    k = constants.split(' ')\n",
    "    k = [hex_to_bin(i) for i in k]\n",
    "    \n",
    "    input_str = preprocessing(convert_to_binary(string))\n",
    "    w = message_schedule(input_str)\n",
    "    final_hashes = mod_final(h, compression(w))\n",
    "    return concat(final_hashes)\n",
    "\n",
    "sha256('hello worldsss          s')"
   ]
  },
  {
   "cell_type": "markdown",
   "id": "dc586c4b",
   "metadata": {},
   "source": [
    "# Using the algorithm for mining"
   ]
  },
  {
   "cell_type": "code",
   "execution_count": 17,
   "id": "50916a9d",
   "metadata": {},
   "outputs": [
    {
     "name": "stdout",
     "output_type": "stream",
     "text": [
      "Original String: hello world\n",
      "Hash of string: b94d27b9934d3e08a52e52d7da7dabfac484efe37a5380ee9088f7ace2efcde9\n",
      "Decimal value of hash: 83814198383102558219731078260892729932246618004265700685467928187377105751529\n"
     ]
    }
   ],
   "source": [
    "# Sample SHA 256 encoding\n",
    "import hashlib\n",
    "a_string = 'hello world'\n",
    "hashed_string = hashlib.sha256(a_string.encode('utf-8')).hexdigest()\n",
    "print('Original String:', a_string)\n",
    "print('Hash of string:', hashed_string)\n",
    "print('Decimal value of hash:', int(hashed_string, 16))"
   ]
  },
  {
   "cell_type": "code",
   "execution_count": 18,
   "id": "821d44fc",
   "metadata": {},
   "outputs": [],
   "source": [
    "# Converts hex val to little endian\n",
    "def to_little(val):\n",
    "    if val[:2] == '0x': # handles formatting of hex()\n",
    "        val = val[2:]\n",
    "    little_hex = bytearray.fromhex(val)\n",
    "    little_hex.reverse()\n",
    "\n",
    "    str_little = ''.join(format(x, '02x') for x in little_hex)\n",
    "\n",
    "    return str_little"
   ]
  },
  {
   "cell_type": "code",
   "execution_count": 19,
   "id": "b8d57faf",
   "metadata": {},
   "outputs": [
    {
     "name": "stdout",
     "output_type": "stream",
     "text": [
      "01000000\n"
     ]
    }
   ],
   "source": [
    "# Converts and int to a little endian 4 byte hex value\n",
    "# Used for version and nonce\n",
    "def int_to_hex(num):\n",
    "    num = '{:08x}'.format(num)\n",
    "    return to_little(num)\n",
    "print(int_to_hex(1))"
   ]
  },
  {
   "cell_type": "code",
   "execution_count": 20,
   "id": "8eec20d1",
   "metadata": {},
   "outputs": [],
   "source": [
    "# Generates the previous hash portion of the block header\n",
    "def generate_prev_hash(test=True):\n",
    "    if test:\n",
    "        return '0000000000000000000000000000000000000000000000000000000000000000' # value for 1st bitcoin mined"
   ]
  },
  {
   "cell_type": "code",
   "execution_count": 21,
   "id": "73b53122",
   "metadata": {},
   "outputs": [],
   "source": [
    "#Generates the merkle root portion of the block header\n",
    "def generate_merkle_root(test=True):\n",
    "    if test:\n",
    "        return to_little('4a5e1e4baab89f3a32518a88c31bc87f618f76673e2cc77ab2127b7afdeda33b') # value for 1st bitcoin mined"
   ]
  },
  {
   "cell_type": "code",
   "execution_count": 22,
   "id": "b9177c1f",
   "metadata": {},
   "outputs": [],
   "source": [
    "# Generates the timestamp portion of block header\n",
    "def generate_timestamp(test=True):\n",
    "    if test:\n",
    "        return to_little('495fab29') # hexadecimal timestamp of 1st bitcoin mined"
   ]
  },
  {
   "cell_type": "code",
   "execution_count": 23,
   "id": "a843f4dc",
   "metadata": {},
   "outputs": [],
   "source": [
    "# Generates the bits portion of the block header\n",
    "def generate_bits(test=True):\n",
    "    if test:\n",
    "        return to_little('1d00ffff')"
   ]
  },
  {
   "cell_type": "code",
   "execution_count": 24,
   "id": "b3fe7446",
   "metadata": {},
   "outputs": [
    {
     "data": {
      "text/plain": [
       "'0100000000000000000000000000000000000000000000000000000000000000000000003ba3edfd7a7b12b27ac72c3e67768f617fc81bc3888a51323a9fb8aa4b1e5e4a29ab5f49ffff001d'"
      ]
     },
     "execution_count": 24,
     "metadata": {},
     "output_type": "execute_result"
    }
   ],
   "source": [
    "# Combines functions to create a the block header excluding the nonce\n",
    "def generate_prefix():\n",
    "    return int_to_hex(1) + generate_prev_hash() + generate_merkle_root() + generate_timestamp() + generate_bits()\n",
    "generate_prefix()"
   ]
  },
  {
   "cell_type": "code",
   "execution_count": 34,
   "id": "c29890f9",
   "metadata": {},
   "outputs": [
    {
     "name": "stdout",
     "output_type": "stream",
     "text": [
      "Help on built-in function openssl_sha256 in module _hashlib:\n",
      "\n",
      "openssl_sha256(string=b'', *, usedforsecurity=True)\n",
      "    Returns a sha256 hash object; optionally initialized with a string\n",
      "\n"
     ]
    }
   ],
   "source": [
    "# def sha256(string):\n",
    "#     return hashlib.sha256(bytes.fromhex(string)).hexdigest()\n",
    "help(hashlib.sha256)"
   ]
  },
  {
   "cell_type": "code",
   "execution_count": 31,
   "id": "157b4cd7",
   "metadata": {},
   "outputs": [
    {
     "data": {
      "text/plain": [
       "True"
      ]
     },
     "execution_count": 31,
     "metadata": {},
     "output_type": "execute_result"
    }
   ],
   "source": [
    "# Test to make sure header is constructed correctly\n",
    "string = generate_prefix() + int_to_hex(2083236893)\n",
    "string == '0100000000000000000000000000000000000000000000000000000000000000000000003ba3edfd7a7b12b27ac72c3e67768f617fc81bc3888a51323a9fb8aa4b1e5e4a29ab5f49ffff001d1dac2b7c'"
   ]
  },
  {
   "cell_type": "code",
   "execution_count": 32,
   "id": "c412222a",
   "metadata": {},
   "outputs": [],
   "source": [
    "def test_header(header):\n",
    "    return to_little(sha256(sha256(header)))"
   ]
  },
  {
   "cell_type": "code",
   "execution_count": 33,
   "id": "adf75bf1",
   "metadata": {},
   "outputs": [
    {
     "data": {
      "text/plain": [
       "'a186ed52df3b883aef5809300dc0922c507043a5779f276913b842e53086297a'"
      ]
     },
     "execution_count": 33,
     "metadata": {},
     "output_type": "execute_result"
    }
   ],
   "source": [
    "test_header(string)"
   ]
  },
  {
   "cell_type": "code",
   "execution_count": 28,
   "id": "3b96958f",
   "metadata": {},
   "outputs": [
    {
     "name": "stdout",
     "output_type": "stream",
     "text": [
      "2083237000\n"
     ]
    },
    {
     "ename": "KeyboardInterrupt",
     "evalue": "",
     "output_type": "error",
     "traceback": [
      "\u001b[1;31m---------------------------------------------------------------------------\u001b[0m",
      "\u001b[1;31mKeyboardInterrupt\u001b[0m                         Traceback (most recent call last)",
      "\u001b[1;32m~\\AppData\\Local\\Temp/ipykernel_24852/2089157414.py\u001b[0m in \u001b[0;36m<module>\u001b[1;34m\u001b[0m\n\u001b[0;32m     14\u001b[0m         \u001b[0mi\u001b[0m \u001b[1;33m+=\u001b[0m \u001b[1;36m1\u001b[0m\u001b[1;33m\u001b[0m\u001b[1;33m\u001b[0m\u001b[0m\n\u001b[0;32m     15\u001b[0m \u001b[0mtarget\u001b[0m \u001b[1;33m=\u001b[0m \u001b[1;34m'00000000ffff0000000000000000000000000000000000000000000000000000'\u001b[0m\u001b[1;33m\u001b[0m\u001b[1;33m\u001b[0m\u001b[0m\n\u001b[1;32m---> 16\u001b[1;33m \u001b[0mfind_nonce\u001b[0m\u001b[1;33m(\u001b[0m\u001b[0mgenerate_prefix\u001b[0m\u001b[1;33m(\u001b[0m\u001b[1;33m)\u001b[0m\u001b[1;33m,\u001b[0m \u001b[0mtarget\u001b[0m\u001b[1;33m)\u001b[0m\u001b[1;33m\u001b[0m\u001b[1;33m\u001b[0m\u001b[0m\n\u001b[0m",
      "\u001b[1;32m~\\AppData\\Local\\Temp/ipykernel_24852/2089157414.py\u001b[0m in \u001b[0;36mfind_nonce\u001b[1;34m(prefix, target)\u001b[0m\n\u001b[0;32m      9\u001b[0m \u001b[1;33m\u001b[0m\u001b[0m\n\u001b[0;32m     10\u001b[0m         \u001b[0mheader\u001b[0m \u001b[1;33m=\u001b[0m \u001b[0mprefix\u001b[0m \u001b[1;33m+\u001b[0m \u001b[0mint_to_hex\u001b[0m\u001b[1;33m(\u001b[0m\u001b[0mi\u001b[0m\u001b[1;33m)\u001b[0m\u001b[1;33m\u001b[0m\u001b[1;33m\u001b[0m\u001b[0m\n\u001b[1;32m---> 11\u001b[1;33m         \u001b[0mattempt\u001b[0m \u001b[1;33m=\u001b[0m \u001b[0mtest_header\u001b[0m\u001b[1;33m(\u001b[0m\u001b[0mheader\u001b[0m\u001b[1;33m)\u001b[0m\u001b[1;33m\u001b[0m\u001b[1;33m\u001b[0m\u001b[0m\n\u001b[0m\u001b[0;32m     12\u001b[0m         \u001b[1;32mif\u001b[0m \u001b[0mattempt\u001b[0m \u001b[1;33m<\u001b[0m \u001b[0mtarget\u001b[0m\u001b[1;33m:\u001b[0m\u001b[1;33m\u001b[0m\u001b[1;33m\u001b[0m\u001b[0m\n\u001b[0;32m     13\u001b[0m             \u001b[1;32mreturn\u001b[0m \u001b[0mattempt\u001b[0m\u001b[1;33m,\u001b[0m \u001b[0mheader\u001b[0m\u001b[1;33m,\u001b[0m \u001b[0mi\u001b[0m\u001b[1;33m\u001b[0m\u001b[1;33m\u001b[0m\u001b[0m\n",
      "\u001b[1;32m~\\AppData\\Local\\Temp/ipykernel_24852/770889403.py\u001b[0m in \u001b[0;36mtest_header\u001b[1;34m(header)\u001b[0m\n\u001b[0;32m      1\u001b[0m \u001b[1;32mdef\u001b[0m \u001b[0mtest_header\u001b[0m\u001b[1;33m(\u001b[0m\u001b[0mheader\u001b[0m\u001b[1;33m)\u001b[0m\u001b[1;33m:\u001b[0m\u001b[1;33m\u001b[0m\u001b[1;33m\u001b[0m\u001b[0m\n\u001b[1;32m----> 2\u001b[1;33m     \u001b[1;32mreturn\u001b[0m \u001b[0mto_little\u001b[0m\u001b[1;33m(\u001b[0m\u001b[0msha256\u001b[0m\u001b[1;33m(\u001b[0m\u001b[0msha256\u001b[0m\u001b[1;33m(\u001b[0m\u001b[0mheader\u001b[0m\u001b[1;33m)\u001b[0m\u001b[1;33m)\u001b[0m\u001b[1;33m)\u001b[0m\u001b[1;33m\u001b[0m\u001b[1;33m\u001b[0m\u001b[0m\n\u001b[0m",
      "\u001b[1;32m~\\AppData\\Local\\Temp/ipykernel_24852/3197438600.py\u001b[0m in \u001b[0;36msha256\u001b[1;34m(string)\u001b[0m\n\u001b[0;32m     27\u001b[0m     \u001b[0minput_str\u001b[0m \u001b[1;33m=\u001b[0m \u001b[0mpreprocessing\u001b[0m\u001b[1;33m(\u001b[0m\u001b[0mconvert_to_binary\u001b[0m\u001b[1;33m(\u001b[0m\u001b[0mstring\u001b[0m\u001b[1;33m)\u001b[0m\u001b[1;33m)\u001b[0m\u001b[1;33m\u001b[0m\u001b[1;33m\u001b[0m\u001b[0m\n\u001b[0;32m     28\u001b[0m     \u001b[0mw\u001b[0m \u001b[1;33m=\u001b[0m \u001b[0mmessage_schedule\u001b[0m\u001b[1;33m(\u001b[0m\u001b[0minput_str\u001b[0m\u001b[1;33m)\u001b[0m\u001b[1;33m\u001b[0m\u001b[1;33m\u001b[0m\u001b[0m\n\u001b[1;32m---> 29\u001b[1;33m     \u001b[0mfinal_hashes\u001b[0m \u001b[1;33m=\u001b[0m \u001b[0mmod_final\u001b[0m\u001b[1;33m(\u001b[0m\u001b[0mh\u001b[0m\u001b[1;33m,\u001b[0m \u001b[0mcompression\u001b[0m\u001b[1;33m(\u001b[0m\u001b[0mw\u001b[0m\u001b[1;33m)\u001b[0m\u001b[1;33m)\u001b[0m\u001b[1;33m\u001b[0m\u001b[1;33m\u001b[0m\u001b[0m\n\u001b[0m\u001b[0;32m     30\u001b[0m     \u001b[1;32mreturn\u001b[0m \u001b[0mconcat\u001b[0m\u001b[1;33m(\u001b[0m\u001b[0mfinal_hashes\u001b[0m\u001b[1;33m)\u001b[0m\u001b[1;33m\u001b[0m\u001b[1;33m\u001b[0m\u001b[0m\n\u001b[0;32m     31\u001b[0m \u001b[1;33m\u001b[0m\u001b[0m\n",
      "\u001b[1;32m~\\AppData\\Local\\Temp/ipykernel_24852/2420483990.py\u001b[0m in \u001b[0;36mcompression\u001b[1;34m(w)\u001b[0m\n\u001b[0;32m     15\u001b[0m         \u001b[0mtemp1\u001b[0m \u001b[1;33m=\u001b[0m \u001b[0mbin_add\u001b[0m\u001b[1;33m(\u001b[0m\u001b[1;33m[\u001b[0m\u001b[0mh\u001b[0m\u001b[1;33m,\u001b[0m \u001b[0ms1\u001b[0m\u001b[1;33m,\u001b[0m \u001b[0mch\u001b[0m\u001b[1;33m,\u001b[0m \u001b[0mk\u001b[0m\u001b[1;33m[\u001b[0m\u001b[0mi\u001b[0m\u001b[1;33m]\u001b[0m\u001b[1;33m,\u001b[0m \u001b[0mw\u001b[0m\u001b[1;33m[\u001b[0m\u001b[0mi\u001b[0m\u001b[1;33m]\u001b[0m\u001b[1;33m]\u001b[0m\u001b[1;33m)\u001b[0m\u001b[1;33m\u001b[0m\u001b[1;33m\u001b[0m\u001b[0m\n\u001b[0;32m     16\u001b[0m         \u001b[0ms0\u001b[0m \u001b[1;33m=\u001b[0m \u001b[0mxor\u001b[0m\u001b[1;33m(\u001b[0m\u001b[0mxor\u001b[0m\u001b[1;33m(\u001b[0m\u001b[0mrightrotate\u001b[0m\u001b[1;33m(\u001b[0m\u001b[0ma\u001b[0m\u001b[1;33m,\u001b[0m \u001b[1;36m2\u001b[0m\u001b[1;33m)\u001b[0m\u001b[1;33m,\u001b[0m \u001b[0mrightrotate\u001b[0m\u001b[1;33m(\u001b[0m\u001b[0ma\u001b[0m\u001b[1;33m,\u001b[0m \u001b[1;36m13\u001b[0m\u001b[1;33m)\u001b[0m\u001b[1;33m)\u001b[0m\u001b[1;33m,\u001b[0m \u001b[0mrightrotate\u001b[0m\u001b[1;33m(\u001b[0m\u001b[0ma\u001b[0m\u001b[1;33m,\u001b[0m \u001b[1;36m22\u001b[0m\u001b[1;33m)\u001b[0m\u001b[1;33m)\u001b[0m\u001b[1;33m\u001b[0m\u001b[1;33m\u001b[0m\u001b[0m\n\u001b[1;32m---> 17\u001b[1;33m         \u001b[0mmaj\u001b[0m \u001b[1;33m=\u001b[0m \u001b[0mxor\u001b[0m\u001b[1;33m(\u001b[0m\u001b[0mxor\u001b[0m\u001b[1;33m(\u001b[0m\u001b[0mbin_and\u001b[0m\u001b[1;33m(\u001b[0m\u001b[0ma\u001b[0m\u001b[1;33m,\u001b[0m \u001b[0mb\u001b[0m\u001b[1;33m)\u001b[0m\u001b[1;33m,\u001b[0m \u001b[0mbin_and\u001b[0m\u001b[1;33m(\u001b[0m\u001b[0ma\u001b[0m\u001b[1;33m,\u001b[0m \u001b[0mc\u001b[0m\u001b[1;33m)\u001b[0m\u001b[1;33m)\u001b[0m\u001b[1;33m,\u001b[0m \u001b[0mbin_and\u001b[0m\u001b[1;33m(\u001b[0m\u001b[0mb\u001b[0m\u001b[1;33m,\u001b[0m \u001b[0mc\u001b[0m\u001b[1;33m)\u001b[0m\u001b[1;33m)\u001b[0m\u001b[1;33m\u001b[0m\u001b[1;33m\u001b[0m\u001b[0m\n\u001b[0m\u001b[0;32m     18\u001b[0m         \u001b[0mtemp2\u001b[0m \u001b[1;33m=\u001b[0m \u001b[0mbin_add\u001b[0m\u001b[1;33m(\u001b[0m\u001b[1;33m[\u001b[0m\u001b[0ms0\u001b[0m\u001b[1;33m,\u001b[0m \u001b[0mmaj\u001b[0m\u001b[1;33m]\u001b[0m\u001b[1;33m)\u001b[0m\u001b[1;33m\u001b[0m\u001b[1;33m\u001b[0m\u001b[0m\n\u001b[0;32m     19\u001b[0m         \u001b[0mh\u001b[0m \u001b[1;33m=\u001b[0m \u001b[0mg\u001b[0m\u001b[1;33m\u001b[0m\u001b[1;33m\u001b[0m\u001b[0m\n",
      "\u001b[1;32m~\\AppData\\Local\\Temp/ipykernel_24852/3869506493.py\u001b[0m in \u001b[0;36mbin_and\u001b[1;34m(string1, string2)\u001b[0m\n\u001b[0;32m     26\u001b[0m     \u001b[0mresult\u001b[0m \u001b[1;33m=\u001b[0m \u001b[1;34m''\u001b[0m\u001b[1;33m\u001b[0m\u001b[1;33m\u001b[0m\u001b[0m\n\u001b[0;32m     27\u001b[0m     \u001b[1;32mfor\u001b[0m \u001b[0mi\u001b[0m \u001b[1;32min\u001b[0m \u001b[0mrange\u001b[0m\u001b[1;33m(\u001b[0m\u001b[0mlen\u001b[0m\u001b[1;33m(\u001b[0m\u001b[0mstring1\u001b[0m\u001b[1;33m)\u001b[0m\u001b[1;33m)\u001b[0m\u001b[1;33m:\u001b[0m\u001b[1;33m\u001b[0m\u001b[1;33m\u001b[0m\u001b[0m\n\u001b[1;32m---> 28\u001b[1;33m         \u001b[1;32mif\u001b[0m \u001b[0mstring1\u001b[0m\u001b[1;33m[\u001b[0m\u001b[0mi\u001b[0m\u001b[1;33m]\u001b[0m \u001b[1;33m==\u001b[0m \u001b[1;34m'1'\u001b[0m \u001b[1;32mand\u001b[0m \u001b[0mstring2\u001b[0m\u001b[1;33m[\u001b[0m\u001b[0mi\u001b[0m\u001b[1;33m]\u001b[0m \u001b[1;33m==\u001b[0m \u001b[1;34m'1'\u001b[0m\u001b[1;33m:\u001b[0m\u001b[1;33m\u001b[0m\u001b[1;33m\u001b[0m\u001b[0m\n\u001b[0m\u001b[0;32m     29\u001b[0m             \u001b[0mresult\u001b[0m \u001b[1;33m+=\u001b[0m \u001b[1;34m'1'\u001b[0m\u001b[1;33m\u001b[0m\u001b[1;33m\u001b[0m\u001b[0m\n\u001b[0;32m     30\u001b[0m         \u001b[1;32melse\u001b[0m\u001b[1;33m:\u001b[0m\u001b[1;33m\u001b[0m\u001b[1;33m\u001b[0m\u001b[0m\n",
      "\u001b[1;31mKeyboardInterrupt\u001b[0m: "
     ]
    }
   ],
   "source": [
    "# Iterates through nonce values until one produces a hash that is lower than the target\n",
    "def find_nonce(prefix, target):\n",
    "    i = 2083236892 # starting with a nonce close to the actual value\n",
    "    header = \"\"\n",
    "    while True:\n",
    "        # status check\n",
    "        if i %1000 == 0:\n",
    "            print(i)\n",
    "        \n",
    "        header = prefix + int_to_hex(i)\n",
    "        attempt = test_header(header)\n",
    "        if attempt < target:\n",
    "            return attempt, header, i\n",
    "        i += 1\n",
    "target = '00000000ffff0000000000000000000000000000000000000000000000000000'\n",
    "find_nonce(generate_prefix(), target)"
   ]
  },
  {
   "cell_type": "code",
   "execution_count": null,
   "id": "5b99a1f1",
   "metadata": {},
   "outputs": [],
   "source": []
  }
 ],
 "metadata": {
  "kernelspec": {
   "display_name": "Python 3 (ipykernel)",
   "language": "python",
   "name": "python3"
  },
  "language_info": {
   "codemirror_mode": {
    "name": "ipython",
    "version": 3
   },
   "file_extension": ".py",
   "mimetype": "text/x-python",
   "name": "python",
   "nbconvert_exporter": "python",
   "pygments_lexer": "ipython3",
   "version": "3.9.0"
  }
 },
 "nbformat": 4,
 "nbformat_minor": 5
}
