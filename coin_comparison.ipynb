{
 "cells": [
  {
   "cell_type": "markdown",
   "id": "ed43e4d3",
   "metadata": {},
   "source": [
    "# Obective\n",
    "\n",
    "Compare the economics of mining various coins to determine how ChipTip can make the most money."
   ]
  },
  {
   "cell_type": "markdown",
   "id": "e13cd426",
   "metadata": {},
   "source": [
    "- Need to determine necessary hashing power for each coin.\n",
    "- Make energy cost a constant\n",
    "- Create a model or graph to show possible profits based on efficiency we can achieve with FPGA\n",
    "- (coin_value - energy_cost)\n",
    "- find a module with updated crypto prices (done) (and maybe current hash rates)"
   ]
  },
  {
   "cell_type": "markdown",
   "id": "9dd73432",
   "metadata": {},
   "source": [
    "Website that will calculate profitability for given coin for us. https://www.coinwarz.com/mining/ravencoin/calculator\n",
    "\n",
    "Maybe use this as a tester to  validate my own model so we can have more flexibility (ie seeing how profitability changes for different hashrates)"
   ]
  },
  {
   "cell_type": "markdown",
   "id": "5ac41831",
   "metadata": {},
   "source": [
    "## Function for retrieving prices of desired currencies"
   ]
  },
  {
   "cell_type": "code",
   "execution_count": 50,
   "id": "efd0d1ce",
   "metadata": {},
   "outputs": [
    {
     "data": {
      "text/plain": [
       "2765.88"
      ]
     },
     "execution_count": 50,
     "metadata": {},
     "output_type": "execute_result"
    }
   ],
   "source": [
    "import time\n",
    "import json\n",
    "import hmac\n",
    "import hashlib\n",
    "import requests\n",
    "from urllib.parse import urljoin, urlencode\n",
    "\n",
    "API_KEY = '9ofl2nxAgcsOA76608hSz0yQoB7A4eoIOrEzt7tskUegfozPeYvpyQ0sMNGB1Mc7'\n",
    "SECRET_KEY = 'VO8A70Tg82sJErA9e2tCCOgaQe1CM79Qtxd80iGFhsY2BKXf2GbmWu2HM231aoEv'\n",
    "BASE_URL = 'https://api.binance.com'\n",
    "\n",
    "headers = {\n",
    "    'X-MBX-APIKEY': API_KEY\n",
    "}\n",
    "\n",
    "class BinanceException(Exception):\n",
    "    def __init__(self, status_code, data):\n",
    "\n",
    "        self.status_code = status_code\n",
    "        if data:\n",
    "            self.code = data['code']\n",
    "            self.msg = data['msg']\n",
    "        else:\n",
    "            self.code = None\n",
    "            self.msg = None\n",
    "        message = f\"{status_code} [{self.code}] {self.msg}\"\n",
    "\n",
    "        # Python 2.x\n",
    "        # super(BinanceException, self).__init__(message)\n",
    "        super().__init__(message)\n",
    "\n",
    "def get_price(ticker):\n",
    "    PATH = '/api/v3/ticker/price'\n",
    "    ticker = ticker.upper()\n",
    "    params = {\n",
    "        'symbol': ticker + 'USDT', \n",
    "    }\n",
    "\n",
    "    url = urljoin(BASE_URL, PATH)\n",
    "    r = requests.get(url, headers=headers, params=params)\n",
    "    if r.status_code == 200:\n",
    "        return float(r.json()['price'])\n",
    "    else:\n",
    "        raise BinanceException(status_code=r.status_code, data=r.json())\n",
    "get_price('eth')"
   ]
  },
  {
   "cell_type": "code",
   "execution_count": 57,
   "id": "934265c5",
   "metadata": {},
   "outputs": [
    {
     "data": {
      "text/plain": [
       "0.05226"
      ]
     },
     "execution_count": 57,
     "metadata": {},
     "output_type": "execute_result"
    }
   ],
   "source": [
    "# Only ravencoin can be mined with kawpow\n",
    "kawpow_coins = ['RVN']\n",
    "\n",
    "get_price('rvn')"
   ]
  },
  {
   "cell_type": "code",
   "execution_count": null,
   "id": "67e6a238",
   "metadata": {},
   "outputs": [],
   "source": []
  }
 ],
 "metadata": {
  "kernelspec": {
   "display_name": "Python 3 (ipykernel)",
   "language": "python",
   "name": "python3"
  },
  "language_info": {
   "codemirror_mode": {
    "name": "ipython",
    "version": 3
   },
   "file_extension": ".py",
   "mimetype": "text/x-python",
   "name": "python",
   "nbconvert_exporter": "python",
   "pygments_lexer": "ipython3",
   "version": "3.9.0"
  }
 },
 "nbformat": 4,
 "nbformat_minor": 5
}
